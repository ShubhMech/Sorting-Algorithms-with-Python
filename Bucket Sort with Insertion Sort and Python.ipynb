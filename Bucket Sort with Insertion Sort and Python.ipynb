{
 "cells": [
  {
   "cell_type": "code",
   "execution_count": 1,
   "id": "e4390254-a330-4bf9-8da4-949e25cac8bf",
   "metadata": {},
   "outputs": [],
   "source": [
    "clist= [1,3,5,3,2,4,6,7,9,4,2]"
   ]
  },
  {
   "cell_type": "code",
   "execution_count": 4,
   "id": "c211488a-7b58-424b-a219-bcbfcbef477d",
   "metadata": {},
   "outputs": [],
   "source": [
    "def bubbleSort(list_obj):\n",
    "    for i in range(len(list_obj)-1):\n",
    "        for j in range(len(list_obj)-i-1 ):\n",
    "            if list_obj[j]>list_obj[j+1]:\n",
    "                list_obj[j], list_obj[j+1] = list_obj[j+1], list_obj[j]\n",
    "                \n",
    "        print(list_obj)"
   ]
  },
  {
   "cell_type": "code",
   "execution_count": 5,
   "id": "409f3df1-cf95-4ffc-b3e5-8164c10c5ce9",
   "metadata": {},
   "outputs": [
    {
     "name": "stdout",
     "output_type": "stream",
     "text": [
      "[1, 3, 3, 2, 4, 5, 6, 7, 4, 2, 9]\n",
      "[1, 3, 2, 3, 4, 5, 6, 4, 2, 7, 9]\n",
      "[1, 2, 3, 3, 4, 5, 4, 2, 6, 7, 9]\n",
      "[1, 2, 3, 3, 4, 4, 2, 5, 6, 7, 9]\n",
      "[1, 2, 3, 3, 4, 2, 4, 5, 6, 7, 9]\n",
      "[1, 2, 3, 3, 2, 4, 4, 5, 6, 7, 9]\n",
      "[1, 2, 3, 2, 3, 4, 4, 5, 6, 7, 9]\n",
      "[1, 2, 2, 3, 3, 4, 4, 5, 6, 7, 9]\n",
      "[1, 2, 2, 3, 3, 4, 4, 5, 6, 7, 9]\n",
      "[1, 2, 2, 3, 3, 4, 4, 5, 6, 7, 9]\n"
     ]
    }
   ],
   "source": [
    "bubbleSort(clist)"
   ]
  },
  {
   "cell_type": "code",
   "execution_count": 6,
   "id": "9ca0d431-3c3a-4438-8ec7-d6ba4a8ff14b",
   "metadata": {},
   "outputs": [],
   "source": [
    "clist2= [11,13,15,31,21,42,64,17,94,14,672]"
   ]
  },
  {
   "cell_type": "code",
   "execution_count": 7,
   "id": "a4e8cae5-329b-4ed6-89a2-c054699afdb5",
   "metadata": {},
   "outputs": [
    {
     "name": "stdout",
     "output_type": "stream",
     "text": [
      "[11, 13, 15, 21, 31, 42, 17, 64, 14, 94, 672]\n",
      "[11, 13, 15, 21, 31, 17, 42, 14, 64, 94, 672]\n",
      "[11, 13, 15, 21, 17, 31, 14, 42, 64, 94, 672]\n",
      "[11, 13, 15, 17, 21, 14, 31, 42, 64, 94, 672]\n",
      "[11, 13, 15, 17, 14, 21, 31, 42, 64, 94, 672]\n",
      "[11, 13, 15, 14, 17, 21, 31, 42, 64, 94, 672]\n",
      "[11, 13, 14, 15, 17, 21, 31, 42, 64, 94, 672]\n",
      "[11, 13, 14, 15, 17, 21, 31, 42, 64, 94, 672]\n",
      "[11, 13, 14, 15, 17, 21, 31, 42, 64, 94, 672]\n",
      "[11, 13, 14, 15, 17, 21, 31, 42, 64, 94, 672]\n"
     ]
    }
   ],
   "source": [
    "bubbleSort(clist2)"
   ]
  },
  {
   "cell_type": "code",
   "execution_count": 21,
   "id": "07634015-ff42-4df2-99e5-321b7b658381",
   "metadata": {},
   "outputs": [],
   "source": [
    "def selSort(list_obj):\n",
    "    for i in range(len(list_obj)-1):\n",
    "        min_index= i\n",
    "        for j in range(i+1,len(list_obj)-i-1 ):\n",
    "            \n",
    "            if list_obj[min_index]>list_obj[j]:\n",
    "                min_index= j\n",
    "                list_obj[min_index], list_obj[i] = list_obj[i], list_obj[min_index]\n",
    "                \n",
    "    print(list_obj)\n",
    "    "
   ]
  },
  {
   "cell_type": "code",
   "execution_count": 22,
   "id": "6642ac82-9398-4b6a-903e-b5a2bb9f8a18",
   "metadata": {},
   "outputs": [
    {
     "name": "stdout",
     "output_type": "stream",
     "text": [
      "[1, 2, 2, 3, 3, 4, 4, 5, 6, 7, 9]\n"
     ]
    }
   ],
   "source": [
    "selSort(clist)"
   ]
  },
  {
   "cell_type": "code",
   "execution_count": 23,
   "id": "b0f98e64-d064-450f-ab0f-a0b33429ac07",
   "metadata": {},
   "outputs": [
    {
     "name": "stdout",
     "output_type": "stream",
     "text": [
      "[11, 13, 14, 15, 17, 21, 31, 42, 64, 94, 672]\n"
     ]
    }
   ],
   "source": [
    "selSort(clist2)"
   ]
  },
  {
   "cell_type": "code",
   "execution_count": 28,
   "id": "c9df5067-4222-4647-bebd-3f1b9c7aef0a",
   "metadata": {},
   "outputs": [],
   "source": [
    "def insertionSort(list_obj):\n",
    "    for i in range(1, len(list_obj)):\n",
    "        key= list_obj[i]\n",
    "        j= i-1\n",
    "        \n",
    "        while j>=0 and list_obj[j]>key:\n",
    "            list_obj[j+1]= list_obj[j]\n",
    "            j -= 1\n",
    "            \n",
    "        list_obj[j+1]= key\n",
    "        \n",
    "    return(list_obj)"
   ]
  },
  {
   "cell_type": "code",
   "execution_count": 29,
   "id": "5334b34e-3484-4ab7-ac38-2c2c45c909fd",
   "metadata": {},
   "outputs": [
    {
     "data": {
      "text/plain": [
       "[1, 2, 2, 3, 3, 4, 4, 5, 6, 7, 9]"
      ]
     },
     "execution_count": 29,
     "metadata": {},
     "output_type": "execute_result"
    }
   ],
   "source": [
    "insertionSort(clist)"
   ]
  },
  {
   "cell_type": "code",
   "execution_count": 30,
   "id": "558149c9-53f1-482c-b0fb-a1bb8b309f2a",
   "metadata": {},
   "outputs": [
    {
     "data": {
      "text/plain": [
       "[11, 13, 14, 15, 17, 21, 31, 42, 64, 94, 672]"
      ]
     },
     "execution_count": 30,
     "metadata": {},
     "output_type": "execute_result"
    }
   ],
   "source": [
    "insertionSort(clist2)"
   ]
  },
  {
   "cell_type": "code",
   "execution_count": 36,
   "id": "ad6ffce2-80b4-4eec-94af-e808edc0f6e3",
   "metadata": {},
   "outputs": [],
   "source": [
    "import math\n",
    "def bucketSort(list_obj):\n",
    "    num_buckets= round(len(list_obj)**2,0)\n",
    "    max_val= len(list_obj)\n",
    "    \n",
    "    arr= []\n",
    "    for i in range( num_buckets):\n",
    "        arr.append([])\n",
    "        \n",
    "    for j in list_obj:\n",
    "        index_=  math.ceil(j*num_buckets/max(list_obj))\n",
    "        arr[index_-1].append(j)\n",
    "    \n",
    "    for i in range(len(arr)):\n",
    "        arr[i]= insertionSort(arr[i])\n",
    "        \n",
    "    k= 0\n",
    "    \n",
    "    for i in range((num_buckets)):\n",
    "        for j in range(len(arr[i])):\n",
    "            list_obj[k]= arr[i][j]\n",
    "            k +=1\n",
    "            \n",
    "    return list_obj"
   ]
  },
  {
   "cell_type": "code",
   "execution_count": 37,
   "id": "632f6694-243a-4277-8913-1a4901c1a0d4",
   "metadata": {},
   "outputs": [
    {
     "data": {
      "text/plain": [
       "[1, 2, 2, 3, 3, 4, 4, 5, 6, 7, 9]"
      ]
     },
     "execution_count": 37,
     "metadata": {},
     "output_type": "execute_result"
    }
   ],
   "source": [
    "bucketSort(clist)"
   ]
  },
  {
   "cell_type": "code",
   "execution_count": 38,
   "id": "c5e9661e-23f8-4538-b700-f2c659bc0fd8",
   "metadata": {},
   "outputs": [
    {
     "data": {
      "text/plain": [
       "[11, 13, 14, 15, 17, 21, 31, 42, 64, 94, 672]"
      ]
     },
     "execution_count": 38,
     "metadata": {},
     "output_type": "execute_result"
    }
   ],
   "source": [
    "bucketSort(clist2)"
   ]
  },
  {
   "cell_type": "code",
   "execution_count": null,
   "id": "dde79935-f665-40a3-b787-403a23662933",
   "metadata": {},
   "outputs": [],
   "source": []
  }
 ],
 "metadata": {
  "kernelspec": {
   "display_name": "Python 3",
   "language": "python",
   "name": "python3"
  },
  "language_info": {
   "codemirror_mode": {
    "name": "ipython",
    "version": 3
   },
   "file_extension": ".py",
   "mimetype": "text/x-python",
   "name": "python",
   "nbconvert_exporter": "python",
   "pygments_lexer": "ipython3",
   "version": "3.8.5"
  }
 },
 "nbformat": 4,
 "nbformat_minor": 5
}
