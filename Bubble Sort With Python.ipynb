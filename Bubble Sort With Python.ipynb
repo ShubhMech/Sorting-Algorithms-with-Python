{
 "cells": [
  {
   "cell_type": "code",
   "execution_count": 1,
   "id": "e4390254-a330-4bf9-8da4-949e25cac8bf",
   "metadata": {},
   "outputs": [],
   "source": [
    "clist= [1,3,5,3,2,4,6,7,9,4,2]"
   ]
  },
  {
   "cell_type": "code",
   "execution_count": 4,
   "id": "c211488a-7b58-424b-a219-bcbfcbef477d",
   "metadata": {},
   "outputs": [],
   "source": [
    "def bubbleSort(list_obj):\n",
    "    for i in range(len(list_obj)-1):\n",
    "        for j in range(len(list_obj)-i-1 ):\n",
    "            if list_obj[j]>list_obj[j+1]:\n",
    "                list_obj[j], list_obj[j+1] = list_obj[j+1], list_obj[j]\n",
    "                \n",
    "        print(list_obj)"
   ]
  },
  {
   "cell_type": "code",
   "execution_count": 5,
   "id": "409f3df1-cf95-4ffc-b3e5-8164c10c5ce9",
   "metadata": {},
   "outputs": [
    {
     "name": "stdout",
     "output_type": "stream",
     "text": [
      "[1, 3, 3, 2, 4, 5, 6, 7, 4, 2, 9]\n",
      "[1, 3, 2, 3, 4, 5, 6, 4, 2, 7, 9]\n",
      "[1, 2, 3, 3, 4, 5, 4, 2, 6, 7, 9]\n",
      "[1, 2, 3, 3, 4, 4, 2, 5, 6, 7, 9]\n",
      "[1, 2, 3, 3, 4, 2, 4, 5, 6, 7, 9]\n",
      "[1, 2, 3, 3, 2, 4, 4, 5, 6, 7, 9]\n",
      "[1, 2, 3, 2, 3, 4, 4, 5, 6, 7, 9]\n",
      "[1, 2, 2, 3, 3, 4, 4, 5, 6, 7, 9]\n",
      "[1, 2, 2, 3, 3, 4, 4, 5, 6, 7, 9]\n",
      "[1, 2, 2, 3, 3, 4, 4, 5, 6, 7, 9]\n"
     ]
    }
   ],
   "source": [
    "bubbleSort(clist)"
   ]
  },
  {
   "cell_type": "code",
   "execution_count": null,
   "id": "9ca0d431-3c3a-4438-8ec7-d6ba4a8ff14b",
   "metadata": {},
   "outputs": [],
   "source": []
  }
 ],
 "metadata": {
  "kernelspec": {
   "display_name": "Python 3",
   "language": "python",
   "name": "python3"
  },
  "language_info": {
   "codemirror_mode": {
    "name": "ipython",
    "version": 3
   },
   "file_extension": ".py",
   "mimetype": "text/x-python",
   "name": "python",
   "nbconvert_exporter": "python",
   "pygments_lexer": "ipython3",
   "version": "3.8.5"
  }
 },
 "nbformat": 4,
 "nbformat_minor": 5
}
