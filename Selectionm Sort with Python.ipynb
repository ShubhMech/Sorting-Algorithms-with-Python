{
 "cells": [
  {
   "cell_type": "code",
   "execution_count": 1,
   "id": "e4390254-a330-4bf9-8da4-949e25cac8bf",
   "metadata": {},
   "outputs": [],
   "source": [
    "clist= [1,3,5,3,2,4,6,7,9,4,2]"
   ]
  },
  {
   "cell_type": "code",
   "execution_count": 4,
   "id": "c211488a-7b58-424b-a219-bcbfcbef477d",
   "metadata": {},
   "outputs": [],
   "source": [
    "def bubbleSort(list_obj):\n",
    "    for i in range(len(list_obj)-1):\n",
    "        for j in range(len(list_obj)-i-1 ):\n",
    "            if list_obj[j]>list_obj[j+1]:\n",
    "                list_obj[j], list_obj[j+1] = list_obj[j+1], list_obj[j]\n",
    "                \n",
    "        print(list_obj)"
   ]
  },
  {
   "cell_type": "code",
   "execution_count": 5,
   "id": "409f3df1-cf95-4ffc-b3e5-8164c10c5ce9",
   "metadata": {},
   "outputs": [
    {
     "name": "stdout",
     "output_type": "stream",
     "text": [
      "[1, 3, 3, 2, 4, 5, 6, 7, 4, 2, 9]\n",
      "[1, 3, 2, 3, 4, 5, 6, 4, 2, 7, 9]\n",
      "[1, 2, 3, 3, 4, 5, 4, 2, 6, 7, 9]\n",
      "[1, 2, 3, 3, 4, 4, 2, 5, 6, 7, 9]\n",
      "[1, 2, 3, 3, 4, 2, 4, 5, 6, 7, 9]\n",
      "[1, 2, 3, 3, 2, 4, 4, 5, 6, 7, 9]\n",
      "[1, 2, 3, 2, 3, 4, 4, 5, 6, 7, 9]\n",
      "[1, 2, 2, 3, 3, 4, 4, 5, 6, 7, 9]\n",
      "[1, 2, 2, 3, 3, 4, 4, 5, 6, 7, 9]\n",
      "[1, 2, 2, 3, 3, 4, 4, 5, 6, 7, 9]\n"
     ]
    }
   ],
   "source": [
    "bubbleSort(clist)"
   ]
  },
  {
   "cell_type": "code",
   "execution_count": 6,
   "id": "9ca0d431-3c3a-4438-8ec7-d6ba4a8ff14b",
   "metadata": {},
   "outputs": [],
   "source": [
    "clist2= [11,13,15,31,21,42,64,17,94,14,672]"
   ]
  },
  {
   "cell_type": "code",
   "execution_count": 7,
   "id": "a4e8cae5-329b-4ed6-89a2-c054699afdb5",
   "metadata": {},
   "outputs": [
    {
     "name": "stdout",
     "output_type": "stream",
     "text": [
      "[11, 13, 15, 21, 31, 42, 17, 64, 14, 94, 672]\n",
      "[11, 13, 15, 21, 31, 17, 42, 14, 64, 94, 672]\n",
      "[11, 13, 15, 21, 17, 31, 14, 42, 64, 94, 672]\n",
      "[11, 13, 15, 17, 21, 14, 31, 42, 64, 94, 672]\n",
      "[11, 13, 15, 17, 14, 21, 31, 42, 64, 94, 672]\n",
      "[11, 13, 15, 14, 17, 21, 31, 42, 64, 94, 672]\n",
      "[11, 13, 14, 15, 17, 21, 31, 42, 64, 94, 672]\n",
      "[11, 13, 14, 15, 17, 21, 31, 42, 64, 94, 672]\n",
      "[11, 13, 14, 15, 17, 21, 31, 42, 64, 94, 672]\n",
      "[11, 13, 14, 15, 17, 21, 31, 42, 64, 94, 672]\n"
     ]
    }
   ],
   "source": [
    "bubbleSort(clist2)"
   ]
  },
  {
   "cell_type": "code",
   "execution_count": 21,
   "id": "07634015-ff42-4df2-99e5-321b7b658381",
   "metadata": {},
   "outputs": [],
   "source": [
    "def selSort(list_obj):\n",
    "    for i in range(len(list_obj)-1):\n",
    "        min_index= i\n",
    "        for j in range(i+1,len(list_obj)-i-1 ):\n",
    "            \n",
    "            if list_obj[min_index]>list_obj[j]:\n",
    "                min_index= j\n",
    "                list_obj[min_index], list_obj[i] = list_obj[i], list_obj[min_index]\n",
    "                \n",
    "    print(list_obj)\n",
    "    "
   ]
  },
  {
   "cell_type": "code",
   "execution_count": 22,
   "id": "6642ac82-9398-4b6a-903e-b5a2bb9f8a18",
   "metadata": {},
   "outputs": [
    {
     "name": "stdout",
     "output_type": "stream",
     "text": [
      "[1, 2, 2, 3, 3, 4, 4, 5, 6, 7, 9]\n"
     ]
    }
   ],
   "source": [
    "selSort(clist)"
   ]
  },
  {
   "cell_type": "code",
   "execution_count": 23,
   "id": "b0f98e64-d064-450f-ab0f-a0b33429ac07",
   "metadata": {},
   "outputs": [
    {
     "name": "stdout",
     "output_type": "stream",
     "text": [
      "[11, 13, 14, 15, 17, 21, 31, 42, 64, 94, 672]\n"
     ]
    }
   ],
   "source": [
    "selSort(clist2)"
   ]
  },
  {
   "cell_type": "code",
   "execution_count": null,
   "id": "c9df5067-4222-4647-bebd-3f1b9c7aef0a",
   "metadata": {},
   "outputs": [],
   "source": []
  }
 ],
 "metadata": {
  "kernelspec": {
   "display_name": "Python 3",
   "language": "python",
   "name": "python3"
  },
  "language_info": {
   "codemirror_mode": {
    "name": "ipython",
    "version": 3
   },
   "file_extension": ".py",
   "mimetype": "text/x-python",
   "name": "python",
   "nbconvert_exporter": "python",
   "pygments_lexer": "ipython3",
   "version": "3.8.5"
  }
 },
 "nbformat": 4,
 "nbformat_minor": 5
}
